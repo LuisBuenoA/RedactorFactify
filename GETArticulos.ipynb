{
 "cells": [
  {
   "cell_type": "code",
   "execution_count": 2,
   "metadata": {},
   "outputs": [
    {
     "name": "stdout",
     "output_type": "stream",
     "text": [
      "Periódico: elpais - Artículos descargados: 238\n",
      "Periódico: elmundo - Artículos descargados: 122\n",
      "Periódico: abc - Artículos descargados: 552\n",
      "Periódico: lavanguardia - Artículos descargados: 301\n",
      "Periódico: elperiodico - Artículos descargados: 208\n",
      "Periódico: eldiario - Artículos descargados: 359\n",
      "Periódico: elespanol - Artículos descargados: 651\n"
     ]
    }
   ],
   "source": [
    "from newspaper import news_pool, build\n",
    "\n",
    "# Lista de URLs de periódicos españoles populares\n",
    "spanish_news_urls = [\n",
    "    'https://elpais.com',          # El País\n",
    "    'https://www.elmundo.es',      # El Mundo\n",
    "    'https://www.abc.es',          # ABC\n",
    "    'https://www.lavanguardia.com',# La Vanguardia\n",
    "    'https://www.elperiodico.com', # El Periódico\n",
    "    'https://www.eldiario.es',     # El Diario\n",
    "    'https://www.elespanol.com',   # El Español\n",
    "]\n",
    "\n",
    "# Construir objetos de periódicos\n",
    "spanish_newspapers = [build(url, language='es') for url in spanish_news_urls]\n",
    "\n",
    "# Pool de periódicos para descargar simultáneamente\n",
    "news_pool.set(spanish_newspapers, threads_per_source=2)\n",
    "news_pool.join()\n",
    "\n",
    "# Mostrar el nombre de los periódicos y la cantidad de artículos descargados\n",
    "for newspaper in spanish_newspapers:\n",
    "    print(f\"Periódico: {newspaper.brand} - Artículos descargados: {len(newspaper.articles)}\")\n"
   ]
  }
 ],
 "metadata": {
  "kernelspec": {
   "display_name": "base",
   "language": "python",
   "name": "python3"
  },
  "language_info": {
   "codemirror_mode": {
    "name": "ipython",
    "version": 3
   },
   "file_extension": ".py",
   "mimetype": "text/x-python",
   "name": "python",
   "nbconvert_exporter": "python",
   "pygments_lexer": "ipython3",
   "version": "3.9.18"
  }
 },
 "nbformat": 4,
 "nbformat_minor": 2
}
