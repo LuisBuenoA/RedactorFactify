{
 "cells": [
  {
   "cell_type": "code",
   "execution_count": 3,
   "metadata": {},
   "outputs": [
    {
     "name": "stdout",
     "output_type": "stream",
     "text": [
      "Error en la solicitud: 401\n"
     ]
    }
   ],
   "source": [
    "import requests\n",
    "\n",
    "# Tu clave API de NewsAPI\n",
    "api_key = ''\n",
    "\n",
    "# Endpoint para obtener las fuentes de noticias\n",
    "url = 'https://newsapi.org/v2/top-headlines/sources'\n",
    "\n",
    "# Parámetros para filtrar por país\n",
    "params = {\n",
    "    'apiKey': api_key,\n",
    "    'country': 'es'\n",
    "}\n",
    "\n",
    "# Realizar la solicitud a la API\n",
    "response = requests.get(url, params=params)\n",
    "\n",
    "# Verificar si la solicitud fue exitosa\n",
    "if response.status_code == 200:\n",
    "    fuentes = response.json().get('sources', [])\n",
    "    print(f\"Se encontraron {len(fuentes)} medios españoles.\")\n",
    "    for fuente in fuentes:\n",
    "        print(f\"Nombre: {fuente['name']}, Descripción: {fuente['description']}\")\n",
    "else:\n",
    "    print(f\"Error en la solicitud: {response.status_code}\")\n"
   ]
  },
  {
   "cell_type": "code",
   "execution_count": 2,
   "metadata": {},
   "outputs": [
    {
     "name": "stdout",
     "output_type": "stream",
     "text": [
      "Periódico: elpais - Artículos descargados: 238\n",
      "Periódico: elmundo - Artículos descargados: 122\n",
      "Periódico: abc - Artículos descargados: 552\n",
      "Periódico: lavanguardia - Artículos descargados: 301\n",
      "Periódico: elperiodico - Artículos descargados: 208\n",
      "Periódico: eldiario - Artículos descargados: 359\n",
      "Periódico: elespanol - Artículos descargados: 651\n"
     ]
    }
   ],
   "source": [
    "from newspaper import news_pool, build\n",
    "\n",
    "# Lista de URLs de periódicos españoles populares\n",
    "spanish_news_urls = [\n",
    "    'https://elpais.com',          # El País\n",
    "    'https://www.elmundo.es',      # El Mundo\n",
    "    'https://www.abc.es',          # ABC\n",
    "    'https://www.lavanguardia.com',# La Vanguardia\n",
    "    'https://www.elperiodico.com', # El Periódico\n",
    "    'https://www.eldiario.es',     # El Diario\n",
    "    'https://www.elespanol.com',   # El Español\n",
    "]\n",
    "\n",
    "# Construir objetos de periódicos\n",
    "spanish_newspapers = [build(url, language='es') for url in spanish_news_urls]\n",
    "\n",
    "# Pool de periódicos para descargar simultáneamente\n",
    "news_pool.set(spanish_newspapers, threads_per_source=2)\n",
    "news_pool.join()\n",
    "\n",
    "# Mostrar el nombre de los periódicos y la cantidad de artículos descargados\n",
    "for newspaper in spanish_newspapers:\n",
    "    print(f\"Periódico: {newspaper.brand} - Artículos descargados: {len(newspaper.articles)}\")\n"
   ]
  }
 ],
 "metadata": {
  "kernelspec": {
   "display_name": "base",
   "language": "python",
   "name": "python3"
  },
  "language_info": {
   "codemirror_mode": {
    "name": "ipython",
    "version": 3
   },
   "file_extension": ".py",
   "mimetype": "text/x-python",
   "name": "python",
   "nbconvert_exporter": "python",
   "pygments_lexer": "ipython3",
   "version": "3.9.18"
  }
 },
 "nbformat": 4,
 "nbformat_minor": 2
}
