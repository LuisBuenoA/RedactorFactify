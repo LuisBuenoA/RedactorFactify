{
 "cells": [
  {
   "cell_type": "code",
   "execution_count": 3,
   "metadata": {},
   "outputs": [
    {
     "name": "stderr",
     "output_type": "stream",
     "text": [
      "c:\\Anaconda\\lib\\site-packages\\transformers\\tokenization_utils_base.py:1601: FutureWarning: `clean_up_tokenization_spaces` was not set. It will be set to `True` by default. This behavior will be depracted in transformers v4.45, and will be then set to `False` by default. For more details check this issue: https://github.com/huggingface/transformers/issues/31884\n",
      "  warnings.warn(\n"
     ]
    }
   ],
   "source": [
    "import pandas as pd\n",
    "from sklearn.cluster import AgglomerativeClustering\n",
    "from sentence_transformers import SentenceTransformer\n",
    "import numpy as np\n",
    "\n",
    "# Cargar modelo BERT multilingüe\n",
    "model = SentenceTransformer('distiluse-base-multilingual-cased')\n",
    "\n",
    "# Cargar el archivo Excel\n",
    "ruta_archivo = 'FrasesArticulos.xlsx'\n",
    "df = pd.read_excel(ruta_archivo)\n",
    "\n",
    "# Asegurar que las columnas necesarias están presentes\n",
    "assert 'Frase' in df.columns and 'IDArticulo' in df.columns, \"El archivo Excel debe contener las columnas 'Frase' e 'IDArticulo'.\"\n",
    "\n",
    "# Convertir las frases a embeddings\n",
    "frases = df['Frase'].tolist()\n",
    "frases_embed = model.encode(frases, convert_to_tensor=True)\n",
    "\n",
    "# Convertir tensores a arrays de numpy\n",
    "frases_embed_np = frases_embed.cpu().numpy()\n",
    "\n",
    "# Aplicar clustering jerárquico\n",
    "umbral_distancia = 1.0  # Ajusta este valor si es necesario\n",
    "clustering = AgglomerativeClustering(n_clusters=None, distance_threshold=umbral_distancia, linkage='average')\n",
    "etiquetas = clustering.fit_predict(frases_embed_np)\n",
    "\n",
    "# Añadir la columna de grupos al dataframe\n",
    "df['IDGrupo'] = etiquetas\n",
    "\n",
    "# Reordenar columnas para el output\n",
    "df_output = df[['IDGrupo', 'Frase', 'IDArticulo']]\n",
    "\n",
    "# Guardar el nuevo dataframe en un archivo Excel\n",
    "df_output.to_excel('FrasesAgrupadas.xlsx', index=False)\n",
    "\n"
   ]
  }
 ],
 "metadata": {
  "kernelspec": {
   "display_name": "base",
   "language": "python",
   "name": "python3"
  },
  "language_info": {
   "codemirror_mode": {
    "name": "ipython",
    "version": 3
   },
   "file_extension": ".py",
   "mimetype": "text/x-python",
   "name": "python",
   "nbconvert_exporter": "python",
   "pygments_lexer": "ipython3",
   "version": "3.9.18"
  }
 },
 "nbformat": 4,
 "nbformat_minor": 2
}
