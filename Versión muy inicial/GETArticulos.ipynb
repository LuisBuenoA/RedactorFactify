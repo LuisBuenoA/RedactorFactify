{
 "cells": [
  {
   "cell_type": "code",
   "execution_count": 1,
   "metadata": {},
   "outputs": [
    {
     "name": "stdout",
     "output_type": "stream",
     "text": [
      "Se han guardado 6243 artículos en 'ArticulosOriginales.xlsx'\n"
     ]
    }
   ],
   "source": [
    "import pandas as pd\n",
    "from newspaper import news_pool, build\n",
    "\n",
    "# Lista de URLs de periódicos españoles populares\n",
    "spanish_news_urls = [\n",
    "    'https://elpais.com',          # El País\n",
    "    'https://www.elmundo.es',      # El Mundo\n",
    "    'https://www.abc.es',          # ABC\n",
    "    'https://www.lavanguardia.com',# La Vanguardia\n",
    "    'https://www.elperiodico.com', # El Periódico\n",
    "    'https://www.eldiario.es',     # El Diario\n",
    "    'https://www.elespanol.com',   # El Español\n",
    "]\n",
    "\n",
    "# Construir objetos de periódicos\n",
    "spanish_newspapers = [build(url, language='es') for url in spanish_news_urls]\n",
    "\n",
    "# Pool de periódicos para descargar simultáneamente\n",
    "news_pool.set(spanish_newspapers, threads_per_source=2)\n",
    "news_pool.join()\n",
    "\n",
    "# Lista para almacenar los datos de los artículos\n",
    "articles_data = []\n",
    "article_id = 1\n",
    "\n",
    "# Extraer texto de cada artículo y agregarlo a la lista\n",
    "for newspaper in spanish_newspapers:\n",
    "    for article in newspaper.articles:\n",
    "        try:\n",
    "            article.download()\n",
    "            article.parse()\n",
    "            text = article.text.strip()\n",
    "            if text:  # Verificar que el texto no esté vacío\n",
    "                articles_data.append({\n",
    "                    'IDArticulo': article_id,\n",
    "                    'Texto': text\n",
    "                })\n",
    "                article_id += 1\n",
    "        except Exception as e:\n",
    "            print(f\"Error al procesar un artículo de {newspaper.brand}: {e}\")\n",
    "\n",
    "# Crear un DataFrame de pandas con los datos recopilados\n",
    "df = pd.DataFrame(articles_data)\n",
    "\n",
    "# Guardar el DataFrame en un archivo Excel\n",
    "df.to_excel('ArticulosOriginales.xlsx', index=False)\n",
    "\n",
    "print(f\"Se han guardado {len(df)} artículos en 'ArticulosOriginales.xlsx'\")"
   ]
  }
 ],
 "metadata": {
  "kernelspec": {
   "display_name": "base",
   "language": "python",
   "name": "python3"
  },
  "language_info": {
   "codemirror_mode": {
    "name": "ipython",
    "version": 3
   },
   "file_extension": ".py",
   "mimetype": "text/x-python",
   "name": "python",
   "nbconvert_exporter": "python",
   "pygments_lexer": "ipython3",
   "version": "3.9.18"
  }
 },
 "nbformat": 4,
 "nbformat_minor": 2
}
